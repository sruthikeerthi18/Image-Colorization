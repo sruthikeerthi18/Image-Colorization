{
 "cells": [
  {
   "cell_type": "code",
   "execution_count": 2,
   "metadata": {
    "colab": {
     "base_uri": "https://localhost:8080/",
     "height": 34
    },
    "colab_type": "code",
    "id": "DMrlFt9mdFHQ",
    "outputId": "1b358de3-d946-4509-e495-fd3bae9609c9"
   },
   "outputs": [
    {
     "name": "stdout",
     "output_type": "stream",
     "text": [
      "Downloading data from https://www.cs.toronto.edu/~kriz/cifar-100-python.tar.gz\n",
      "169009152/169001437 [==============================] - 263s 2us/step\n"
     ]
    }
   ],
   "source": [
    "from keras.datasets import cifar100\n",
    "(x_train,_), (x_test,_) = cifar100.load_data()"
   ]
  },
  {
   "cell_type": "code",
   "execution_count": 4,
   "metadata": {
    "colab": {},
    "colab_type": "code",
    "id": "lAPwBpSwdJ1g"
   },
   "outputs": [],
   "source": [
    "import cv2\n",
    "import numpy as np"
   ]
  },
  {
   "cell_type": "code",
   "execution_count": 5,
   "metadata": {
    "colab": {},
    "colab_type": "code",
    "id": "sirX-_SVdKxt"
   },
   "outputs": [],
   "source": [
    "x_traing=[]\n",
    "x_testg=[]\n",
    "for i in range(50000):\n",
    "   x_traing.append(cv2.cvtColor(x_train[i], cv2.COLOR_BGR2GRAY))\n",
    "for i in range(10000):\n",
    "   x_testg.append(cv2.cvtColor(x_test[i], cv2.COLOR_BGR2GRAY))"
   ]
  },
  {
   "cell_type": "code",
   "execution_count": 6,
   "metadata": {
    "colab": {},
    "colab_type": "code",
    "id": "MonZ25bQdMKQ"
   },
   "outputs": [],
   "source": [
    "x_traing=np.array(x_traing)\n",
    "x_testg=np.array(x_testg)\n",
    "x_traing=x_traing.reshape(50000,32,32,1)\n",
    "x_testg=x_testg.reshape(10000,32,32,1)"
   ]
  },
  {
   "cell_type": "code",
   "execution_count": 7,
   "metadata": {
    "colab": {
     "base_uri": "https://localhost:8080/",
     "height": 34
    },
    "colab_type": "code",
    "id": "9tg_scxTdNGd",
    "outputId": "9868c2fa-553e-45d0-8fc4-2d6808c03226"
   },
   "outputs": [
    {
     "data": {
      "text/plain": [
       "(10000, 32, 32, 1)"
      ]
     },
     "execution_count": 7,
     "metadata": {},
     "output_type": "execute_result"
    }
   ],
   "source": [
    "x_traing = x_traing/255.0\n",
    "x_testg = x_testg/255.0\n",
    "\n",
    "x_train = x_train/255.0\n",
    "x_test = x_test/255.0\n",
    "\n",
    "x_testg.shape\n"
   ]
  },
  {
   "cell_type": "code",
   "execution_count": 8,
   "metadata": {
    "colab": {},
    "colab_type": "code",
    "id": "EHOIteGrdOTX"
   },
   "outputs": [
    {
     "name": "stdout",
     "output_type": "stream",
     "text": [
      "WARNING:tensorflow:From C:\\Users\\Sruthi Keerthi\\Anaconda3\\lib\\site-packages\\tensorflow\\python\\framework\\op_def_library.py:263: colocate_with (from tensorflow.python.framework.ops) is deprecated and will be removed in a future version.\n",
      "Instructions for updating:\n",
      "Colocations handled automatically by placer.\n"
     ]
    }
   ],
   "source": [
    "from keras.layers import Input, Dense, Conv2D, MaxPooling2D, UpSampling2D\n",
    "from keras.models import Model\n",
    "from keras import backend as K\n",
    "\n",
    "input_img = Input(shape=(32,32,1))\n",
    "\n",
    "x = Conv2D(32, (3, 3), activation='relu', padding='same')(input_img) \n",
    "x = MaxPooling2D((2, 2), padding='same')(x) \n",
    "x= Conv2D(64, (3, 3), activation='relu', padding='same')(x) \n",
    "x= Conv2D(64, (3, 3), activation='relu', padding='same')(x) \n",
    "x= MaxPooling2D((2, 2), padding='same')(x) # 8x8x128\n",
    "encoded = Conv2D(128, (3, 3), activation='relu', padding='same')(x)\n",
    "\n",
    "\n",
    "\n",
    "x = UpSampling2D((2, 2))(encoded) \n",
    "x = Conv2D(128, (3, 3), activation='relu', padding='same')(x) \n",
    "x = Conv2D(128, (3, 3), activation='relu', padding='same')(x) \n",
    "x = UpSampling2D((2, 2))(x) \n",
    "x= Conv2D(64, (3, 3), activation='relu', padding='same')(x) \n",
    "decoded = Conv2D(3, (3, 3), activation='linear', padding='same')(x)\n",
    "\n",
    "autoencoder = Model(input_img, decoded)\n",
    "autoencoder.compile(optimizer='adam', loss='mean_squared_error',metrics=['accuracy'])"
   ]
  },
  {
   "cell_type": "code",
   "execution_count": 9,
   "metadata": {
    "colab": {
     "base_uri": "https://localhost:8080/",
     "height": 571
    },
    "colab_type": "code",
    "id": "il27APdEdPwJ",
    "outputId": "d8bae355-e114-40e7-bb1c-50ca8ebafe00"
   },
   "outputs": [
    {
     "name": "stdout",
     "output_type": "stream",
     "text": [
      "_________________________________________________________________\n",
      "Layer (type)                 Output Shape              Param #   \n",
      "=================================================================\n",
      "input_1 (InputLayer)         (None, 32, 32, 1)         0         \n",
      "_________________________________________________________________\n",
      "conv2d_1 (Conv2D)            (None, 32, 32, 32)        320       \n",
      "_________________________________________________________________\n",
      "max_pooling2d_1 (MaxPooling2 (None, 16, 16, 32)        0         \n",
      "_________________________________________________________________\n",
      "conv2d_2 (Conv2D)            (None, 16, 16, 64)        18496     \n",
      "_________________________________________________________________\n",
      "conv2d_3 (Conv2D)            (None, 16, 16, 64)        36928     \n",
      "_________________________________________________________________\n",
      "max_pooling2d_2 (MaxPooling2 (None, 8, 8, 64)          0         \n",
      "_________________________________________________________________\n",
      "conv2d_4 (Conv2D)            (None, 8, 8, 128)         73856     \n",
      "_________________________________________________________________\n",
      "up_sampling2d_1 (UpSampling2 (None, 16, 16, 128)       0         \n",
      "_________________________________________________________________\n",
      "conv2d_5 (Conv2D)            (None, 16, 16, 128)       147584    \n",
      "_________________________________________________________________\n",
      "conv2d_6 (Conv2D)            (None, 16, 16, 128)       147584    \n",
      "_________________________________________________________________\n",
      "up_sampling2d_2 (UpSampling2 (None, 32, 32, 128)       0         \n",
      "_________________________________________________________________\n",
      "conv2d_7 (Conv2D)            (None, 32, 32, 64)        73792     \n",
      "_________________________________________________________________\n",
      "conv2d_8 (Conv2D)            (None, 32, 32, 3)         1731      \n",
      "=================================================================\n",
      "Total params: 500,291\n",
      "Trainable params: 500,291\n",
      "Non-trainable params: 0\n",
      "_________________________________________________________________\n"
     ]
    }
   ],
   "source": [
    "autoencoder.summary()"
   ]
  },
  {
   "cell_type": "code",
   "execution_count": 10,
   "metadata": {
    "colab": {
     "base_uri": "https://localhost:8080/",
     "height": 202
    },
    "colab_type": "code",
    "id": "CZYsS1dOdReo",
    "outputId": "ac84ea91-8da0-4f78-f20d-2e4878e8b641"
   },
   "outputs": [
    {
     "name": "stdout",
     "output_type": "stream",
     "text": [
      "WARNING:tensorflow:From C:\\Users\\Sruthi Keerthi\\Anaconda3\\lib\\site-packages\\tensorflow\\python\\ops\\math_ops.py:3066: to_int32 (from tensorflow.python.ops.math_ops) is deprecated and will be removed in a future version.\n",
      "Instructions for updating:\n",
      "Use tf.cast instead.\n",
      "Epoch 1/5\n",
      "50000/50000 [==============================] - 1586s 32ms/step - loss: 0.0237 - acc: 0.4786\n",
      "Epoch 2/5\n",
      "50000/50000 [==============================] - 1015s 20ms/step - loss: 0.0129 - acc: 0.4882\n",
      "Epoch 3/5\n",
      "50000/50000 [==============================] - 1082s 22ms/step - loss: 0.0118 - acc: 0.4901\n",
      "Epoch 4/5\n",
      "50000/50000 [==============================] - 7628s 153ms/step - loss: 0.0115 - acc: 0.4951\n",
      "Epoch 5/5\n",
      "50000/50000 [==============================] - 1025s 21ms/step - loss: 0.0108 - acc: 0.4972\n"
     ]
    },
    {
     "data": {
      "text/plain": [
       "<keras.callbacks.History at 0x19633496d30>"
      ]
     },
     "execution_count": 10,
     "metadata": {},
     "output_type": "execute_result"
    }
   ],
   "source": [
    "autoencoder.fit(x_traing,x_train,epochs=5,batch_size=256)"
   ]
  },
  {
   "cell_type": "code",
   "execution_count": 54,
   "metadata": {
    "colab": {
     "base_uri": "https://localhost:8080/",
     "height": 285
    },
    "colab_type": "code",
    "id": "BnaA8fkOdS2b",
    "outputId": "4e8468c3-50f6-4d46-d320-aeb528b7b1f5"
   },
   "outputs": [
    {
     "data": {
      "text/plain": [
       "<matplotlib.image.AxesImage at 0x7f77988ab358>"
      ]
     },
     "execution_count": 54,
     "metadata": {
      "tags": []
     },
     "output_type": "execute_result"
    },
    {
     "data": {
      "image/png": "[encoded data removed]",
      "text/plain": [
       "<Figure size 432x288 with 2 Axes>"
      ]
     },
     "metadata": {
      "tags": []
     },
     "output_type": "display_data"
    }
   ],
   "source": [
    " import matplotlib.pyplot as plt #test image in black and white\n",
    "%matplotlib inline\n",
    "t_imgg=x_traing[50]\n",
    "t_imgg = t_imgg.reshape(32,32)\n",
    "\n",
    "plt.subplot(2,1,1)\n",
    "plt.imshow(t_imgg,cmap='gray')\n",
    "\n",
    "t_colorimg = x_train[50]\n",
    "t_colorimg = t_colorimg.reshape(32,32,3)\n",
    "plt.subplot(2,1,2)\n",
    "plt.imshow(t_colorimg)"
   ]
  },
  {
   "cell_type": "code",
   "execution_count": 55,
   "metadata": {
    "colab": {
     "base_uri": "https://localhost:8080/",
     "height": 193
    },
    "colab_type": "code",
    "id": "59mPqKwMdT0V",
    "outputId": "ac83ee0a-b91c-46f8-a732-be7b65652e9f"
   },
   "outputs": [
    {
     "name": "stderr",
     "output_type": "stream",
     "text": [
      "Clipping input data to the valid range for imshow with RGB data ([0..1] for floats or [0..255] for integers).\n"
     ]
    },
    {
     "data": {
      "text/plain": [
       "<matplotlib.image.AxesImage at 0x7f77987bc0b8>"
      ]
     },
     "execution_count": 55,
     "metadata": {
      "tags": []
     },
     "output_type": "execute_result"
    },
    {
     "data": {
      "image/png": "[encoded data removed]",
      "text/plain": [
       "<Figure size 144x144 with 1 Axes>"
      ]
     },
     "metadata": {
      "tags": []
     },
     "output_type": "display_data"
    }
   ],
   "source": [
    "t_imgg = t_imgg.reshape(1,32,32,1)\n",
    "result = autoencoder.predict(t_imgg)\n",
    "result = result[0]\n",
    "# result\n",
    "plt.figure(figsize=(2,2))\n",
    "plt.imshow(result)"
   ]
  },
  {
   "cell_type": "code",
   "execution_count": 0,
   "metadata": {
    "colab": {},
    "colab_type": "code",
    "id": "8ZkvtLAqdU8F"
   },
   "outputs": [],
   "source": []
  }
 ],
 "metadata": {
  "accelerator": "GPU",
  "colab": {
   "collapsed_sections": [],
   "name": "Image colorization",
   "provenance": [],
   "version": "0.3.2"
  },
  "kernelspec": {
   "display_name": "Python 3",
   "language": "python",
   "name": "python3"
  },
  "language_info": {
   "codemirror_mode": {
    "name": "ipython",
    "version": 3
   },
   "file_extension": ".py",
   "mimetype": "text/x-python",
   "name": "python",
   "nbconvert_exporter": "python",
   "pygments_lexer": "ipython3",
   "version": "3.7.3"
  }
 },
 "nbformat": 4,
 "nbformat_minor": 1
}
